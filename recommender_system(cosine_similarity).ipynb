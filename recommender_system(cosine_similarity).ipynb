{
  "nbformat": 4,
  "nbformat_minor": 0,
  "metadata": {
    "colab": {
      "name": "recommender_system(cosine_similarity).ipynb",
      "provenance": []
    },
    "kernelspec": {
      "name": "python3",
      "display_name": "Python 3"
    }
  },
  "cells": [
    {
      "cell_type": "markdown",
      "metadata": {
        "id": "CkFuX63Tf4nU",
        "colab_type": "text"
      },
      "source": [
        "First, have some pre processing of the raw data"
      ]
    },
    {
      "cell_type": "code",
      "metadata": {
        "id": "v2uLjx-nYnZT",
        "colab_type": "code",
        "colab": {}
      },
      "source": [
        "import pandas as pd\n",
        "import numpy as np\n",
        "from sklearn.feature_extraction.text import CountVectorizer \n",
        "from sklearn.metrics.pairwise import cosine_similarity\n",
        "def get_title_from_index(index):\n",
        "  return df[df.index==index]['title'].values[0]\n",
        "def get_index_from_title(title):                      #functions to output similar movies\n",
        "  return df[df.title==title]['index'].values[0]\n",
        "df=pd.read_csv('movie_dataset.csv')\n",
        "features=['keywords','cast','genres','director']   #selecting relevant features\n",
        "for feature in features:\n",
        "  df[feature]=df[feature].fillna('')     #cleansing the data\n",
        "def combine(row):\n",
        "  return row['keywords']+' '+row['cast']+' '+row['genres']+' '+row['director']    #creating new column in dataframe containing the features\n",
        "df['combined']=df.apply(combine,axis=1)\n"
      ],
      "execution_count": 0,
      "outputs": []
    },
    {
      "cell_type": "markdown",
      "metadata": {
        "id": "uyrl4IHJjuXe",
        "colab_type": "text"
      },
      "source": [
        ""
      ]
    },
    {
      "cell_type": "markdown",
      "metadata": {
        "id": "qU7qA9pxfix7",
        "colab_type": "text"
      },
      "source": [
        "Let's vectorize our model to apply cosine similarity"
      ]
    },
    {
      "cell_type": "code",
      "metadata": {
        "id": "4c38Onjggbdd",
        "colab_type": "code",
        "colab": {}
      },
      "source": [
        "vector=CountVectorizer()\n",
        "matrix=vector.fit_transform(df['combined'])    #method to vectorize the text data\n"
      ],
      "execution_count": 0,
      "outputs": []
    },
    {
      "cell_type": "markdown",
      "metadata": {
        "id": "yG2gi1hfg0oU",
        "colab_type": "text"
      },
      "source": [
        "Applying the cosine similarity in vectors"
      ]
    },
    {
      "cell_type": "code",
      "metadata": {
        "id": "74vBbTbrg6nM",
        "colab_type": "code",
        "colab": {}
      },
      "source": [
        "matrix=vector.fit_transform(df['combined'])    #method to vectorize the text data\n",
        "cosine=cosine_similarity(matrix)   #applying the function\n",
        "movie_index=get_index_from_title('Avatar')\n",
        "similar=list(enumerate(cosine[movie_index]))  \n",
        "sorted_movies=sorted(similar,key=lambda x:x[1],reverse=True)  #sort the movies\n",
        "for movie in sorted_movies:\n",
        "  print(get_title_from_index(movie[0]))\n",
        "  i+=1\n",
        "  if i>50:\n",
        "    break"
      ],
      "execution_count": 0,
      "outputs": []
    }
  ]
}